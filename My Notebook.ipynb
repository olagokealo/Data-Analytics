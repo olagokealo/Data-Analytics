{
    "cells": [
        {
            "metadata": {
                "collapsed": true
            },
            "cell_type": "markdown",
            "source": "# My Jupyter Notebook on IBM Watson Studio"
        },
        {
            "metadata": {},
            "cell_type": "markdown",
            "source": "#### Alo Olagoke Babajide  \nData Scientist"
        },
        {
            "metadata": {},
            "cell_type": "markdown",
            "source": "_I am interested in data science because of my curiousty; to solving Big data problems_"
        },
        {
            "metadata": {},
            "cell_type": "markdown",
            "source": "### Calculate the sum of 1 plus 1"
        },
        {
            "metadata": {},
            "cell_type": "code",
            "source": "1 + 1",
            "execution_count": 2,
            "outputs": [
                {
                    "output_type": "execute_result",
                    "execution_count": 2,
                    "data": {
                        "text/plain": "2"
                    },
                    "metadata": {}
                }
            ]
        },
        {
            "metadata": {},
            "cell_type": "markdown",
            "source": "1. Hello\n2. People"
        },
        {
            "metadata": {},
            "cell_type": "markdown",
            "source": "***"
        },
        {
            "metadata": {},
            "cell_type": "markdown",
            "source": "Say  \n~~no~~  \nto  \nviolence"
        },
        {
            "metadata": {},
            "cell_type": "markdown",
            "source": "|Name |Age  | Gendar|\n|:---:|:---:| :---: |\n|Paul |  23 | M     | \n|Tola |  26 | F     |\n|Sola |  27 |  M    |"
        },
        {
            "metadata": {},
            "cell_type": "markdown",
            "source": " `There is more to learn`"
        }
    ],
    "metadata": {
        "kernelspec": {
            "name": "python36",
            "display_name": "Python 3.6 with Spark",
            "language": "python3"
        },
        "language_info": {
            "mimetype": "text/x-python",
            "nbconvert_exporter": "python",
            "name": "python",
            "pygments_lexer": "ipython3",
            "version": "3.6.8",
            "file_extension": ".py",
            "codemirror_mode": {
                "version": 3,
                "name": "ipython"
            }
        }
    },
    "nbformat": 4,
    "nbformat_minor": 1
}